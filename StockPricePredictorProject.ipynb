{
  "nbformat": 4,
  "nbformat_minor": 0,
  "metadata": {
    "colab": {
      "name": "Copy of StockPricePredictorProject.ipynb",
      "provenance": [],
      "collapsed_sections": [],
      "include_colab_link": true
    },
    "kernelspec": {
      "name": "python3",
      "display_name": "Python 3"
    }
  },
  "cells": [
    {
      "cell_type": "markdown",
      "metadata": {
        "id": "view-in-github",
        "colab_type": "text"
      },
      "source": [
        "<a href=\"https://colab.research.google.com/github/fazalmittu/StockPricePredictor/blob/main/StockPricePredictorProject.ipynb\" target=\"_parent\"><img src=\"https://colab.research.google.com/assets/colab-badge.svg\" alt=\"Open In Colab\"/></a>"
      ]
    },
    {
      "cell_type": "code",
      "metadata": {
        "id": "yE-i5eV_d0kz"
      },
      "source": [
        "#TODO: Find Dataset, then import it and make it usable to train the model\n",
        "import matplotlib.pyplot as plt\n",
        "import numpy as np\n",
        "import pandas as pd"
      ],
      "execution_count": null,
      "outputs": []
    },
    {
      "cell_type": "code",
      "metadata": {
        "id": "gxkGP5MoU9km"
      },
      "source": [
        "from sklearn.preprocessing import MinMaxScaler\n",
        "from keras.models import Sequential\n",
        "from keras.layers import Dense, Dropout, LSTM"
      ],
      "execution_count": null,
      "outputs": []
    },
    {
      "cell_type": "code",
      "metadata": {
        "colab": {
          "base_uri": "https://localhost:8080/"
        },
        "id": "OJd1q8vof2ul",
        "outputId": "c04e92b2-a928-4a31-cb22-20a6f4a92187"
      },
      "source": [
        "import requests\n",
        "\n",
        "csv_url = \"https://query1.finance.yahoo.com/v7/finance/download/AAPL?period1=1583106669&period2=1614642669&interval=1d&events=history&includeAdjustedClose=true\"\n",
        "\n",
        "print(csv_url)\n",
        "\n",
        "req = requests.get(csv_url)\n",
        "url_content = req.content\n",
        "csv_file = open('AAPL.csv', 'wb')\n",
        "\n",
        "csv_file.write(url_content)\n",
        "csv_file.close()\n",
        "\n",
        "dataset = pd.read_csv('AAPL.csv')\n",
        "\n",
        "#print(dataset)\n"
      ],
      "execution_count": null,
      "outputs": [
        {
          "output_type": "stream",
          "text": [
            "https://query1.finance.yahoo.com/v7/finance/download/AAPL?period1=1583106669&period2=1614642669&interval=1d&events=history&includeAdjustedClose=true\n"
          ],
          "name": "stdout"
        }
      ]
    },
    {
      "cell_type": "code",
      "metadata": {
        "id": "K8sB4EMrf85i"
      },
      "source": [
        "dataset['Date'] = pd.to_datetime(dataset.Date,format='%Y-%m-%d')\n",
        "dataset.index = dataset['Date']\n",
        "\n",
        "#plt.figure(figsize=(16,8))\n",
        "#plt.plot(dataset['Volume'], label='Amount of Stocks')"
      ],
      "execution_count": null,
      "outputs": []
    },
    {
      "cell_type": "code",
      "metadata": {
        "id": "V5Or2zQIDEcu"
      },
      "source": [
        "dataset = dataset.sort_index(ascending=True, axis=0)\n",
        "dataset2 = pd.DataFrame(index=range(0,len(dataset)),columns=['Date', 'Close'])\n",
        "for i in range(0,len(dataset)):\n",
        "    dataset2['Date'][i] = dataset['Date'][i]\n",
        "    dataset2['Close'][i] = dataset['Close'][i]"
      ],
      "execution_count": null,
      "outputs": []
    },
    {
      "cell_type": "code",
      "metadata": {
        "id": "UnO5upF2WAG9"
      },
      "source": [
        "dataset2.index = dataset2.Date\n",
        "dataset2.drop('Date', axis=1, inplace = True)"
      ],
      "execution_count": null,
      "outputs": []
    },
    {
      "cell_type": "code",
      "metadata": {
        "id": "2ZrhRkjqWtxY"
      },
      "source": [
        "dataset3 = dataset2.values "
      ],
      "execution_count": null,
      "outputs": []
    },
    {
      "cell_type": "code",
      "metadata": {
        "id": "4GdP-UuuW2nT"
      },
      "source": [
        "\n",
        "train = dataset3[0:200, :]\n",
        "valid = dataset3[200:, :]\n",
        "#print(valid)"
      ],
      "execution_count": null,
      "outputs": []
    },
    {
      "cell_type": "code",
      "metadata": {
        "id": "HWDoy7_YXug-"
      },
      "source": [
        "# puts everything between (0,1)\n",
        "scaler = MinMaxScaler(feature_range=(0, 1))\n",
        "scaled_data = scaler.fit_transform(dataset3)\n",
        "#print(scaled_data)"
      ],
      "execution_count": null,
      "outputs": []
    },
    {
      "cell_type": "code",
      "metadata": {
        "id": "v4UW6MPYX-kR"
      },
      "source": [
        "x_train, y_train = [], []\n",
        "for i in range(60,len(train)):\n",
        "    x_train.append(scaled_data[i-60:i,0])\n",
        "    y_train.append(scaled_data[i,0])\n",
        "x_train, y_train = np.array(x_train), np.array(y_train)"
      ],
      "execution_count": null,
      "outputs": []
    },
    {
      "cell_type": "code",
      "metadata": {
        "id": "hVzdfzrfYB68"
      },
      "source": [
        "x_train = np.reshape(x_train, (x_train.shape[0],x_train.shape[1],1))"
      ],
      "execution_count": null,
      "outputs": []
    },
    {
      "cell_type": "code",
      "metadata": {
        "id": "Sh4bpoAnYGrK"
      },
      "source": [
        "model = Sequential()\n",
        "model.add(LSTM( units=1000, return_sequences = True, input_shape=(x_train.shape[1], 1)))\n",
        "model.add(LSTM(units=1000))\n",
        "model.add(Dense(1))"
      ],
      "execution_count": null,
      "outputs": []
    },
    {
      "cell_type": "code",
      "metadata": {
        "id": "5vj92Tt2ZxGo",
        "colab": {
          "base_uri": "https://localhost:8080/"
        },
        "outputId": "7e410629-bffd-49c3-e637-4e95a911b0dc"
      },
      "source": [
        "model.compile(loss='mean_squared_error', optimizer='adam')\n",
        "model.fit(x_train, y_train, epochs=1, batch_size=1, verbose=2)"
      ],
      "execution_count": null,
      "outputs": [
        {
          "output_type": "stream",
          "text": [
            "140/140 - 276s - loss: 0.0219\n"
          ],
          "name": "stdout"
        },
        {
          "output_type": "execute_result",
          "data": {
            "text/plain": [
              "<tensorflow.python.keras.callbacks.History at 0x7f56931e1410>"
            ]
          },
          "metadata": {
            "tags": []
          },
          "execution_count": 39
        }
      ]
    },
    {
      "cell_type": "code",
      "metadata": {
        "id": "mWkCSMrwZzAh",
        "colab": {
          "base_uri": "https://localhost:8080/"
        },
        "outputId": "e6607bd9-e72a-4135-d020-afc64b918019"
      },
      "source": [
        "inputs = dataset3[len(dataset3) - len(valid) - 60:]\n",
        "inputs = inputs.reshape(-1, 1)\n",
        "inputs  = scaler.transform(inputs)\n",
        "print(inputs.shape)"
      ],
      "execution_count": null,
      "outputs": [
        {
          "output_type": "stream",
          "text": [
            "(112, 1)\n"
          ],
          "name": "stdout"
        }
      ]
    },
    {
      "cell_type": "code",
      "metadata": {
        "id": "8HV3-RCQafNg"
      },
      "source": [
        "X_test = []\n",
        "for i in range(60,inputs.shape[0]):\n",
        "    X_test.append(inputs[i-60:i,0])\n",
        "X_test = np.array(X_test)\n"
      ],
      "execution_count": null,
      "outputs": []
    },
    {
      "cell_type": "code",
      "metadata": {
        "id": "GR6S59QuahPg"
      },
      "source": [
        "X_test = np.reshape(X_test, (X_test.shape[0],X_test.shape[1],1))\n",
        "closing_price = model.predict(X_test)\n",
        "closing_price = scaler.inverse_transform(closing_price)\n",
        "#print(X_test.shape)"
      ],
      "execution_count": null,
      "outputs": []
    },
    {
      "cell_type": "markdown",
      "metadata": {
        "id": "XIhAqyaKCNfc"
      },
      "source": [
        "GRAPH:"
      ]
    },
    {
      "cell_type": "code",
      "metadata": {
        "id": "ADsVAXiZhun-",
        "colab": {
          "base_uri": "https://localhost:8080/"
        },
        "outputId": "4428aa0f-10b0-417d-f44f-1879b225ed5c"
      },
      "source": [
        "\n",
        "train = dataset2[:200]\n",
        "valid = dataset2[200:]\n",
        "valid['Predictions'] = closing_price\n",
        "plt.figure(figsize=(20,10))\n",
        "plt.plot(train['Close'])\n",
        "plt.plot(valid[['Close','Predictions']])"
      ],
      "execution_count": null,
      "outputs": [
        {
          "output_type": "stream",
          "text": [
            "/usr/local/lib/python3.7/dist-packages/ipykernel_launcher.py:4: SettingWithCopyWarning: \n",
            "A value is trying to be set on a copy of a slice from a DataFrame.\n",
            "Try using .loc[row_indexer,col_indexer] = value instead\n",
            "\n",
            "See the caveats in the documentation: https://pandas.pydata.org/pandas-docs/stable/user_guide/indexing.html#returning-a-view-versus-a-copy\n",
            "  after removing the cwd from sys.path.\n"
          ],
          "name": "stderr"
        },
        {
          "output_type": "execute_result",
          "data": {
            "text/plain": [
              "[<matplotlib.lines.Line2D at 0x7f568fd12250>,\n",
              " <matplotlib.lines.Line2D at 0x7f568fd12490>]"
            ]
          },
          "metadata": {
            "tags": []
          },
          "execution_count": 43
        },
        {
          "output_type": "display_data",
          "data": {
            "image/png": "[encoded data removed]",
            "text/plain": [
              "<Figure size 1440x720 with 1 Axes>"
            ]
          },
          "metadata": {
            "tags": [],
            "needs_background": "light"
          }
        }
      ]
    }
  ]
}